{
 "cells": [
  {
   "cell_type": "code",
   "execution_count": null,
   "id": "2f684529-1fd8-468e-a50c-530bcd92d173",
   "metadata": {},
   "outputs": [],
   "source": [
    "# Import necessary libraries\n",
    "import pandas as pd\n",
    "import seaborn as sns\n",
    "import matplotlib.pyplot as plt\n",
    "\n",
    "# Load the dataset\n",
    "from ucimlrepo import fetch_ucirepo\n",
    "\n",
    "forest_fires = fetch_ucirepo(id=162)\n",
    "X = forest_fires.data.features\n",
    "y = forest_fires.data.targets.squeeze()  # Ensure y is a Series\n",
    "\n",
    "# Step 1: Check for Class Imbalance\n",
    "\n",
    "# Count the number of instances for each category in 'month' and 'day'\n",
    "category_counts_month = X['month'].value_counts()\n",
    "category_counts_day = X['day'].value_counts()\n",
    "\n",
    "# Print the counts for 'month' and 'day'\n",
    "print(\"Month Distribution:\\n\", category_counts_month)\n",
    "print(\"\\nDay Distribution:\\n\", category_counts_day)\n",
    "\n",
    "# Visualize 'month' and 'day' distributions\n",
    "plt.figure(figsize=(10, 6))\n",
    "sns.countplot(data=X, x='month', order=category_counts_month.index)\n",
    "plt.title(\"Distribution of 'month'\")\n",
    "plt.xlabel(\"Month\")\n",
    "plt.ylabel(\"Count\")\n",
    "plt.xticks(rotation=45)\n",
    "plt.show()\n",
    "\n",
    "plt.figure(figsize=(10, 6))\n",
    "sns.countplot(data=X, x='day', order=category_counts_day.index)\n",
    "plt.title(\"Distribution of 'day'\")\n",
    "plt.xlabel(\"Day\")\n",
    "plt.ylabel(\"Count\")\n",
    "plt.xticks(rotation=45)\n",
    "plt.show()\n",
    "\n",
    "# Analyze the target variable 'area'\n",
    "plt.figure(figsize=(10, 6))\n",
    "sns.histplot(y, bins=50, kde=True)\n",
    "plt.title(\"Distribution of Target Variable 'area'\")\n",
    "plt.xlabel(\"Burned Area (ha)\")\n",
    "plt.ylabel(\"Frequency\")\n",
    "plt.show()\n",
    "\n",
    "# Check if the target variable 'area' is skewed\n",
    "print(\"Target Variable Statistics:\")\n",
    "print(y.describe())\n",
    "\n",
    "# Detect the proportion of zero or near-zero values in 'area'\n",
    "zero_near_zero_proportion = ((y <= 1).sum() / len(y)) * 100\n",
    "print(f\"\\nProportion of zero or near-zero values in target variable: {zero_near_zero_proportion:.2f}%\")\n"
   ]
  }
 ],
 "metadata": {
  "kernelspec": {
   "display_name": "Python 3 (ipykernel)",
   "language": "python",
   "name": "python3"
  },
  "language_info": {
   "codemirror_mode": {
    "name": "ipython",
    "version": 3
   },
   "file_extension": ".py",
   "mimetype": "text/x-python",
   "name": "python",
   "nbconvert_exporter": "python",
   "pygments_lexer": "ipython3",
   "version": "3.12.7"
  }
 },
 "nbformat": 4,
 "nbformat_minor": 5
}
